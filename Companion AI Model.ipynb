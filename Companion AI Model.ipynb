{
 "cells": [
  {
   "cell_type": "markdown",
   "metadata": {},
   "source": [
    "THIS IS THE FINAL VERSION OF THE MODEL WHERE ALL PROCESSES WILL TAKE PLACE."
   ]
  },
  {
   "cell_type": "code",
   "execution_count": 18,
   "metadata": {},
   "outputs": [],
   "source": [
    "import numpy as np\n",
    "import pandas as pd"
   ]
  },
  {
   "cell_type": "code",
   "execution_count": 19,
   "metadata": {},
   "outputs": [],
   "source": [
    "from datasets import load_dataset\n",
    "\n",
    "ds = load_dataset(\"Estwld/empathetic_dialogues_llm\")"
   ]
  },
  {
   "cell_type": "code",
   "execution_count": 20,
   "metadata": {},
   "outputs": [
    {
     "name": "stdout",
     "output_type": "stream",
     "text": [
      "{'conv_id': 'hit:59_conv:118', 'situation': 'not living near family, being in a new place. ', 'emotion': 'lonely', 'conversations': [{'content': 'I recently moved to my dream location, but it sucks not knowing anyone. ', 'role': 'user'}, {'content': 'congratulations! I know, it probably feels lonely. Maybe you should do a party at your house and invite all the neighbours', 'role': 'assistant'}, {'content': 'That actually sounds like a really good idea! Thank you... now to decide what to cook.. lol', 'role': 'user'}, {'content': \"you can't go wrong with some grilled food :) burgers, wings, hot dogs \", 'role': 'assistant'}]}\n",
      "{'conv_id': 'hit:469_conv:939', 'situation': 'Whenever I hear certain songs, it brings back so many memories. Mostly of when I was young and dumb staying up late with friends.', 'emotion': 'nostalgic', 'conversations': [{'content': 'Have you ever heard a song on the radio and it just takes you back to a different time? Like an escape?', 'role': 'user'}, {'content': 'All the time.  That is part of listening to music I suppose.  The songs remind you of when you first heard them.', 'role': 'assistant'}, {'content': \"Yeah, I guess that's fair. It happens all the time to me too. Sometimes makes me wish I was reliving those moments but I don't think I would really want to go back..\", 'role': 'user'}, {'content': 'I know what you mean.  However, the older I get the more I want to go back LOL.', 'role': 'assistant'}, {'content': \"lol :) That's true. Life is hard and did seem so much more carefree when I was younger, but I just don't like who I was. I like me now much better :)\", 'role': 'user'}]}\n",
      "{'conv_id': 'hit:331_conv:663', 'situation': 'I had a huge exam that was coming up, and I study for weeks for it', 'emotion': 'prepared', 'conversations': [{'content': 'I had a huge exam that like 25 percent of my grade. I study for 2 weeks for it', 'role': 'user'}, {'content': 'Oh, I bet that was very stressful and difficult. I hope you did well on it?', 'role': 'assistant'}, {'content': \"Yeah because the professor got mad that the book store didn't have the little blue books to write in, so he canceled it and said whatever our current grade was to bump it up a letter grade\", 'role': 'user'}, {'content': \"Well, at least you didn't go down in your grade. But, it wasn't right to treat the students like that!\", 'role': 'assistant'}]}\n"
     ]
    }
   ],
   "source": [
    "print(ds['train'][101])\n",
    "print(ds['test'][100])\n",
    "print(ds['valid'][100])"
   ]
  },
  {
   "cell_type": "code",
   "execution_count": 17,
   "metadata": {},
   "outputs": [
    {
     "name": "stdout",
     "output_type": "stream",
     "text": [
      "DatasetDict({\n",
      "    train: Dataset({\n",
      "        features: ['conv_id', 'situation', 'emotion', 'conversations'],\n",
      "        num_rows: 19533\n",
      "    })\n",
      "    valid: Dataset({\n",
      "        features: ['conv_id', 'situation', 'emotion', 'conversations'],\n",
      "        num_rows: 2770\n",
      "    })\n",
      "    test: Dataset({\n",
      "        features: ['conv_id', 'situation', 'emotion', 'conversations'],\n",
      "        num_rows: 2547\n",
      "    })\n",
      "})\n",
      "{'conv_id': Value(dtype='string', id=None), 'situation': Value(dtype='string', id=None), 'emotion': Value(dtype='string', id=None), 'conversations': [{'content': Value(dtype='string', id=None), 'role': Value(dtype='string', id=None)}]}\n"
     ]
    }
   ],
   "source": [
    "print(ds)\n",
    "print(ds['train'].features)\n"
   ]
  },
  {
   "cell_type": "code",
   "execution_count": null,
   "metadata": {},
   "outputs": [],
   "source": []
  }
 ],
 "metadata": {
  "kernelspec": {
   "display_name": "base",
   "language": "python",
   "name": "python3"
  },
  "language_info": {
   "codemirror_mode": {
    "name": "ipython",
    "version": 3
   },
   "file_extension": ".py",
   "mimetype": "text/x-python",
   "name": "python",
   "nbconvert_exporter": "python",
   "pygments_lexer": "ipython3",
   "version": "3.11.7"
  }
 },
 "nbformat": 4,
 "nbformat_minor": 2
}
