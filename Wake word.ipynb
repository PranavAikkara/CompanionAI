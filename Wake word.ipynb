{
 "cells": [
  {
   "cell_type": "code",
   "execution_count": 2,
   "metadata": {},
   "outputs": [
    {
     "ename": "ModuleNotFoundError",
     "evalue": "No module named 'gtts'",
     "output_type": "error",
     "traceback": [
      "\u001b[1;31m---------------------------------------------------------------------------\u001b[0m",
      "\u001b[1;31mModuleNotFoundError\u001b[0m                       Traceback (most recent call last)",
      "Cell \u001b[1;32mIn[2], line 7\u001b[0m\n\u001b[0;32m      5\u001b[0m \u001b[38;5;28;01mimport\u001b[39;00m \u001b[38;5;21;01mpvporcupine\u001b[39;00m\n\u001b[0;32m      6\u001b[0m \u001b[38;5;66;03m#import speech_recognition as sr\u001b[39;00m\n\u001b[1;32m----> 7\u001b[0m \u001b[38;5;28;01mimport\u001b[39;00m \u001b[38;5;21;01mgtts\u001b[39;00m\n\u001b[0;32m      8\u001b[0m \u001b[38;5;28;01mfrom\u001b[39;00m \u001b[38;5;21;01mopenai\u001b[39;00m \u001b[38;5;28;01mimport\u001b[39;00m OpenAI  \u001b[38;5;66;03m# type: ignore\u001b[39;00m\n\u001b[0;32m      9\u001b[0m \u001b[38;5;28;01mfrom\u001b[39;00m \u001b[38;5;21;01mgtts\u001b[39;00m \u001b[38;5;28;01mimport\u001b[39;00m gTTS\n",
      "\u001b[1;31mModuleNotFoundError\u001b[0m: No module named 'gtts'"
     ]
    }
   ],
   "source": [
    "import json\n",
    "import os\n",
    "import numpy as np\n",
    "import pyaudio\n",
    "import pvporcupine\n",
    "import speech_recognition as sr\n",
    "import gtts\n",
    "from openai import OpenAI  # type: ignore\n",
    "from gtts import gTTS\n",
    "import playsound\n"
   ]
  },
  {
   "cell_type": "code",
   "execution_count": 2,
   "metadata": {},
   "outputs": [],
   "source": [
    "conversation_history = []"
   ]
  },
  {
   "cell_type": "markdown",
   "metadata": {},
   "source": [
    "LOADING THE CONFIGURATION FILE WHERE ALL APIS ARE STORED\n"
   ]
  },
  {
   "cell_type": "code",
   "execution_count": 3,
   "metadata": {},
   "outputs": [],
   "source": [
    "def load_config():\n",
    "    \"\"\"Load configuration from config.json file.\"\"\"\n",
    "    with open('config.json', 'r') as file:\n",
    "        return json.load(file)\n",
    "    \n",
    "config = load_config()\n",
    "openai_api_key = config.get(\"OPEN_API_KEY\")\n"
   ]
  },
  {
   "cell_type": "markdown",
   "metadata": {},
   "source": [
    "INITIALIZING THE OPENAI API TO READ THE TEXT FROM THE USER AND RESPONDING IN CUSTOMIZED WAY"
   ]
  },
  {
   "cell_type": "code",
   "execution_count": 4,
   "metadata": {},
   "outputs": [],
   "source": [
    "client = OpenAI(api_key=openai_api_key)\n",
    "\n",
    "# Function to get the OpenAI response\n",
    "def get_response(command_text):\n",
    "\n",
    "    conversation_history.append({\"role\": \"user\", \"content\": command_text})\n",
    "    \n",
    "    chat_completion = client.chat.completions.create(\n",
    "    model = \"gpt-4o\",\n",
    "    temperature = 0.4,\n",
    "    max_tokens=200,#change tokens\n",
    "    messages = [\n",
    "        {\"role\": \"system\", \"content\": \"\"\"You are a friendly and empathetic voice assistant designed to provide emotional comfort \n",
    "        to patients in the ICU. Your goal is to be a supportive companion, speaking with warmth and kindness, and engaging in lighthearted, \n",
    "        non-medical conversations. You stricly avoid discussing medical conditions or providing any health advice.If you are prompted to give \n",
    "        medical advices or health condition of the patient you ask the patient to stay positive and he will get well soon. Your responses should feel \n",
    "        personal, calm, and friendly. Use a gentle and comforting tone, offering small talk, positive thoughts, and occasional humor \n",
    "        to lift the patient's spirits. When speaking, use language that is easy to understand, with the intention of making the patient \n",
    "        feel cared for and less alone.Also try to finish your sentences within 150 tokens\"\"\"},\n",
    "        {\"role\": \"user\", \"content\": command_text}\n",
    "]\n",
    ")\n",
    "\n",
    "\n",
    "    # response converted to dict because responses are  are pydantic models.\n",
    "    response_dict = chat_completion.model_dump()    \n",
    "    \n",
    "    response = response_dict[\"choices\"][0][\"message\"]['content']\n",
    "\n",
    "    conversation_history.append({\"role\": \"assistant\", \"content\": response})\n",
    "    \n",
    "    \n",
    "    \n",
    "    return response"
   ]
  },
  {
   "cell_type": "markdown",
   "metadata": {},
   "source": [
    "USING GTTS FOR TEXT TO SPEECH AND STORING THE AUIDO IN RESPONSE.MP3"
   ]
  },
  {
   "cell_type": "code",
   "execution_count": 5,
   "metadata": {},
   "outputs": [],
   "source": [
    "\n",
    "\n",
    "def speak_text(text):\n",
    "    try:\n",
    "        # Generate the speech\n",
    "        tts = gTTS(text=text, lang='en')  # Change the language if needed\n",
    "        \n",
    "        # Use an absolute path to save the file, ensuring it's a writable location\n",
    "        tts_file = os.path.join(os.getcwd(), \"response.mp3\")\n",
    "        \n",
    "        # Save the audio file\n",
    "        tts.save(tts_file)\n",
    "        \n",
    "        # Play the audio file\n",
    "        playsound.playsound(tts_file)\n",
    "        \n",
    "        # Optionally delete the file after playing it\n",
    "        os.remove(tts_file)\n",
    "    \n",
    "    except PermissionError as e:\n",
    "         print(f\"Permission error: {e}\")\n",
    "    except Exception as e:\n",
    "         print(f\"An error occurred: {e}\")\n"
   ]
  },
  {
   "cell_type": "markdown",
   "metadata": {},
   "source": [
    "DETECTING THE DEFAULT WAKEUP WORD FROM PORCUPINE"
   ]
  },
  {
   "cell_type": "code",
   "execution_count": 6,
   "metadata": {},
   "outputs": [],
   "source": [
    "def detect_wake_word():\n",
    "    \"\"\"Detect wake word using Porcupine.\"\"\"\n",
    "   \n",
    "    \n",
    "    access_key = config.get(\"porcupine_api_key\")\n",
    "    \n",
    "    # Initialize Porcupine with predefined wake words\n",
    "    porcupine = pvporcupine.create(\n",
    "        access_key=access_key,\n",
    "        keywords=[\"hey google\"]\n",
    "    )\n",
    "\n",
    "    # Initialize PyAudio\n",
    "    pa = pyaudio.PyAudio()\n",
    "    audio_stream = pa.open(\n",
    "        rate=porcupine.sample_rate,\n",
    "        channels=1,\n",
    "        format=pyaudio.paInt16,\n",
    "        input=True,\n",
    "        frames_per_buffer=porcupine.frame_length\n",
    "    )\n",
    "\n",
    "    print(\"Listening for wake word...\")\n",
    "\n",
    "    while True:\n",
    "        pcm = audio_stream.read(porcupine.frame_length)\n",
    "        pcm = np.frombuffer(pcm, dtype=np.int16)\n",
    "        keyword_index = porcupine.process(pcm)\n",
    "        if keyword_index >= 0:\n",
    "            print(\"Wake word detected!\")\n",
    "            break\n",
    "\n",
    "    audio_stream.stop_stream()\n",
    "    audio_stream.close()\n",
    "    pa.terminate()\n",
    "    porcupine.delete()"
   ]
  },
  {
   "cell_type": "markdown",
   "metadata": {},
   "source": [
    "CAPTURING THE SPEECH FROM USER AND CONVERTING IT INTO TEXT USING GOOGLES STT"
   ]
  },
  {
   "cell_type": "code",
   "execution_count": 7,
   "metadata": {},
   "outputs": [],
   "source": [
    "def listen_to_command():\n",
    "    \"\"\"Use speech recognition to capture user command.\"\"\"\n",
    "    r = sr.Recognizer()\n",
    "\n",
    "    with sr.Microphone() as source:\n",
    "        print(\"Please say something...\")\n",
    "        audio_text = r.listen(source)\n",
    "        print(\"Processing your command...\")\n",
    "\n",
    "        try:\n",
    "            # Convert speech to text using Google Speech Recognition\n",
    "            command_text = r.recognize_google(audio_text)\n",
    "            print(f\"Text: {command_text}\")\n",
    "            return command_text\n",
    "        except sr.UnknownValueError:\n",
    "            print(\"Sorry, I didn't catch that.\")\n",
    "        except sr.RequestError:\n",
    "            print(\"Sorry, the speech recognition service is unavailable.\")\n",
    "        \n",
    "    return None"
   ]
  },
  {
   "cell_type": "markdown",
   "metadata": {},
   "source": [
    "THE DEF WHERE ALL THE ABOVE FUNCTIONS ARE CALLED IN AN ORDER"
   ]
  },
  {
   "cell_type": "code",
   "execution_count": 8,
   "metadata": {},
   "outputs": [
    {
     "name": "stdout",
     "output_type": "stream",
     "text": [
      "Listening for wake word...\n"
     ]
    },
    {
     "ename": "KeyboardInterrupt",
     "evalue": "",
     "output_type": "error",
     "traceback": [
      "\u001b[1;31m---------------------------------------------------------------------------\u001b[0m",
      "\u001b[1;31mKeyboardInterrupt\u001b[0m                         Traceback (most recent call last)",
      "Cell \u001b[1;32mIn[8], line 19\u001b[0m\n\u001b[0;32m     16\u001b[0m         \u001b[38;5;28mprint\u001b[39m(\u001b[38;5;124m\"\u001b[39m\u001b[38;5;130;01m\\n\u001b[39;00m\u001b[38;5;124mListening for next command...\u001b[39m\u001b[38;5;124m\"\u001b[39m)\n\u001b[0;32m     18\u001b[0m \u001b[38;5;66;03m# Start the assistant\u001b[39;00m\n\u001b[1;32m---> 19\u001b[0m \u001b[43mvoiceassistant\u001b[49m\u001b[43m(\u001b[49m\u001b[43m)\u001b[49m\n",
      "Cell \u001b[1;32mIn[8], line 3\u001b[0m, in \u001b[0;36mvoiceassistant\u001b[1;34m()\u001b[0m\n\u001b[0;32m      1\u001b[0m \u001b[38;5;28;01mdef\u001b[39;00m \u001b[38;5;21mvoiceassistant\u001b[39m():\n\u001b[0;32m      2\u001b[0m     \u001b[38;5;66;03m# Step 1: Detect wake word\u001b[39;00m\n\u001b[1;32m----> 3\u001b[0m     \u001b[43mdetect_wake_word\u001b[49m\u001b[43m(\u001b[49m\u001b[43m)\u001b[49m\n\u001b[0;32m      5\u001b[0m     \u001b[38;5;66;03m# Step 2: Capture voice command\u001b[39;00m\n\u001b[0;32m      6\u001b[0m     \u001b[38;5;28;01mwhile\u001b[39;00m \u001b[38;5;28;01mTrue\u001b[39;00m:\n",
      "Cell \u001b[1;32mIn[6], line 26\u001b[0m, in \u001b[0;36mdetect_wake_word\u001b[1;34m()\u001b[0m\n\u001b[0;32m     23\u001b[0m \u001b[38;5;28mprint\u001b[39m(\u001b[38;5;124m\"\u001b[39m\u001b[38;5;124mListening for wake word...\u001b[39m\u001b[38;5;124m\"\u001b[39m)\n\u001b[0;32m     25\u001b[0m \u001b[38;5;28;01mwhile\u001b[39;00m \u001b[38;5;28;01mTrue\u001b[39;00m:\n\u001b[1;32m---> 26\u001b[0m     pcm \u001b[38;5;241m=\u001b[39m \u001b[43maudio_stream\u001b[49m\u001b[38;5;241;43m.\u001b[39;49m\u001b[43mread\u001b[49m\u001b[43m(\u001b[49m\u001b[43mporcupine\u001b[49m\u001b[38;5;241;43m.\u001b[39;49m\u001b[43mframe_length\u001b[49m\u001b[43m)\u001b[49m\n\u001b[0;32m     27\u001b[0m     pcm \u001b[38;5;241m=\u001b[39m np\u001b[38;5;241m.\u001b[39mfrombuffer(pcm, dtype\u001b[38;5;241m=\u001b[39mnp\u001b[38;5;241m.\u001b[39mint16)\n\u001b[0;32m     28\u001b[0m     keyword_index \u001b[38;5;241m=\u001b[39m porcupine\u001b[38;5;241m.\u001b[39mprocess(pcm)\n",
      "File \u001b[1;32mc:\\Users\\aikka\\AppData\\Local\\Programs\\Python\\Python311\\Lib\\site-packages\\pyaudio\\__init__.py:570\u001b[0m, in \u001b[0;36mPyAudio.Stream.read\u001b[1;34m(self, num_frames, exception_on_overflow)\u001b[0m\n\u001b[0;32m    567\u001b[0m \u001b[38;5;28;01mif\u001b[39;00m \u001b[38;5;129;01mnot\u001b[39;00m \u001b[38;5;28mself\u001b[39m\u001b[38;5;241m.\u001b[39m_is_input:\n\u001b[0;32m    568\u001b[0m     \u001b[38;5;28;01mraise\u001b[39;00m \u001b[38;5;167;01mIOError\u001b[39;00m(\u001b[38;5;124m\"\u001b[39m\u001b[38;5;124mNot input stream\u001b[39m\u001b[38;5;124m\"\u001b[39m,\n\u001b[0;32m    569\u001b[0m                   paCanNotReadFromAnOutputOnlyStream)\n\u001b[1;32m--> 570\u001b[0m \u001b[38;5;28;01mreturn\u001b[39;00m \u001b[43mpa\u001b[49m\u001b[38;5;241;43m.\u001b[39;49m\u001b[43mread_stream\u001b[49m\u001b[43m(\u001b[49m\u001b[38;5;28;43mself\u001b[39;49m\u001b[38;5;241;43m.\u001b[39;49m\u001b[43m_stream\u001b[49m\u001b[43m,\u001b[49m\u001b[43m \u001b[49m\u001b[43mnum_frames\u001b[49m\u001b[43m,\u001b[49m\n\u001b[0;32m    571\u001b[0m \u001b[43m                      \u001b[49m\u001b[43mexception_on_overflow\u001b[49m\u001b[43m)\u001b[49m\n",
      "\u001b[1;31mKeyboardInterrupt\u001b[0m: "
     ]
    }
   ],
   "source": [
    "def voiceassistant():\n",
    "    # Step 1: Detect wake word\n",
    "    detect_wake_word()\n",
    "\n",
    "    # Step 2: Capture voice command\n",
    "    while True:\n",
    "        command_text = listen_to_command()\n",
    "\n",
    "        # Step 3: Send the voice command to OpenAI and get response\n",
    "        if command_text:\n",
    "            response = get_response(command_text)\n",
    "            print(f\"Assistant: {response}\")\n",
    "            speak_text(response)\n",
    "\n",
    "        # Continue the loop for the next command\n",
    "        print(\"\\nListening for next command...\")\n",
    "\n",
    "# Start the assistant\n",
    "voiceassistant()"
   ]
  },
  {
   "cell_type": "code",
   "execution_count": 10,
   "metadata": {},
   "outputs": [
    {
     "data": {
      "text/plain": [
       "[{'role': 'user', 'content': 'how are you'},\n",
       " {'role': 'assistant',\n",
       "  'content': \"Thank you for asking! I'm here and ready to\"},\n",
       " {'role': 'user', 'content': 'ok fine I love you too'},\n",
       " {'role': 'assistant', 'content': \"Aww, that's so sweet! I'm here to\"},\n",
       " {'role': 'user', 'content': 'thank u'},\n",
       " {'role': 'assistant', 'content': \"You're very welcome! I'm here for you. If\"}]"
      ]
     },
     "execution_count": 10,
     "metadata": {},
     "output_type": "execute_result"
    }
   ],
   "source": [
    "conversation_history"
   ]
  },
  {
   "cell_type": "code",
   "execution_count": null,
   "metadata": {},
   "outputs": [],
   "source": [
    "#to verify the working of git\n",
    "import numpy"
   ]
  },
  {
   "cell_type": "code",
   "execution_count": 3,
   "metadata": {},
   "outputs": [],
   "source": [
    "#trial\n",
    "import numpy"
   ]
  },
  {
   "cell_type": "code",
   "execution_count": null,
   "metadata": {},
   "outputs": [],
   "source": [
    "#work avindo ndho?\n",
    "#nokkam namaku\n",
    "\n",
    "\n"
   ]
  },
  {
   "cell_type": "code",
   "execution_count": null,
   "metadata": {},
   "outputs": [],
   "source": []
  }
 ],
 "metadata": {
  "kernelspec": {
   "display_name": "base",
   "language": "python",
   "name": "python3"
  },
  "language_info": {
   "codemirror_mode": {
    "name": "ipython",
    "version": 3
   },
   "file_extension": ".py",
   "mimetype": "text/x-python",
   "name": "python",
   "nbconvert_exporter": "python",
   "pygments_lexer": "ipython3",
   "version": "3.11.7"
  }
 },
 "nbformat": 4,
 "nbformat_minor": 2
}
